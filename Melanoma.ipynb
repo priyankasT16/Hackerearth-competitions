{
  "nbformat": 4,
  "nbformat_minor": 0,
  "metadata": {
    "kernelspec": {
      "language": "python",
      "display_name": "Python 3",
      "name": "python3"
    },
    "language_info": {
      "pygments_lexer": "ipython3",
      "nbconvert_exporter": "python",
      "version": "3.6.4",
      "file_extension": ".py",
      "codemirror_mode": {
        "name": "ipython",
        "version": 3
      },
      "name": "python",
      "mimetype": "text/x-python"
    },
    "colab": {
      "name": "Copy of Melanoma.ipynb",
      "provenance": [],
      "collapsed_sections": [],
      "include_colab_link": true
    },
    "accelerator": "GPU"
  },
  "cells": [
    {
      "cell_type": "markdown",
      "metadata": {
        "id": "view-in-github",
        "colab_type": "text"
      },
      "source": [
        "<a href=\"https://colab.research.google.com/github/priyankasT16/Hackerearth-competitions/blob/master/Melanoma.ipynb\" target=\"_parent\"><img src=\"https://colab.research.google.com/assets/colab-badge.svg\" alt=\"Open In Colab\"/></a>"
      ]
    },
    {
      "cell_type": "code",
      "metadata": {
        "_uuid": "8f2839f25d086af736a60e9eeb907d3b93b6e0e5",
        "_cell_guid": "b1076dfc-b9ad-4769-8c92-a6c4dae69d19",
        "trusted": true,
        "id": "vPnAMuaqS44n",
        "colab_type": "code",
        "outputId": "9d1cac0f-c97f-4c87-c04f-0bf1a07d4e50",
        "colab": {
          "base_uri": "https://localhost:8080/",
          "height": 34
        }
      },
      "source": [
        "import numpy as np # linear algebra\n",
        "import pandas as pd \n",
        "import cv2\n",
        "import matplotlib.pyplot as plt\n",
        "from PIL import Image\n",
        "from tqdm import tqdm\n",
        "from sklearn.metrics import roc_auc_score,accuracy_score\n",
        "from sklearn.model_selection import train_test_split,GroupKFold,StratifiedKFold,KFold\n",
        "import random\n",
        "import gc\n",
        "from keras.utils import to_categorical\n",
        "import os\n",
        "import tensorflow as tf\n",
        "from keras import backend as K\n",
        "from keras.layers import Dense\n",
        "from keras.models import Sequential\n",
        "#import efficientnet.keras  as enf\n",
        "from keras.callbacks import ReduceLROnPlateau\n",
        "import keras\n",
        "from keras import backend as K\n",
        "from keras.models import Model, Input\n",
        "from keras.layers import Dense, Lambda,GlobalAveragePooling2D\n",
        "from math import ceil\n",
        "import tensorflow as tf\n",
        "\n",
        "\n",
        "\n",
        "\n"
      ],
      "execution_count": 1,
      "outputs": [
        {
          "output_type": "stream",
          "text": [
            "Using TensorFlow backend.\n"
          ],
          "name": "stderr"
        }
      ]
    },
    {
      "cell_type": "code",
      "metadata": {
        "id": "fOuJH_e2ntD5",
        "colab_type": "code",
        "colab": {}
      },
      "source": [
        "from google.colab import drive\n",
        "drive.mount('/content/drive')"
      ],
      "execution_count": 0,
      "outputs": []
    },
    {
      "cell_type": "code",
      "metadata": {
        "id": "FJh46Vt-EjrG",
        "colab_type": "code",
        "colab": {
          "base_uri": "https://localhost:8080/",
          "height": 34
        },
        "outputId": "03110a0b-a653-406a-eae4-aeadb971cf0a"
      },
      "source": [
        "seed_value= 0\n",
        "def seed_everything(seed):\n",
        "  os.environ['PYTHONHASHSEED']=str(seed)\n",
        "  random.seed(seed)\n",
        "  np.random.seed(seed)\n",
        "  tf.random.set_seed(seed)\n",
        "  # for later versions: \n",
        "  tf.compat.v1.set_random_seed(seed)\n",
        "  return('Set seed {}'.format(seed))\n",
        "\n",
        "seed_everything(seed_value)\n"
      ],
      "execution_count": 2,
      "outputs": [
        {
          "output_type": "execute_result",
          "data": {
            "text/plain": [
              "'Set seed 0'"
            ]
          },
          "metadata": {
            "tags": []
          },
          "execution_count": 2
        }
      ]
    },
    {
      "cell_type": "code",
      "metadata": {
        "_uuid": "d629ff2d2480ee46fbb7e2d37f6b5fab8052498a",
        "_cell_guid": "79c7e3d0-c299-4dcb-8224-4455121ee9b0",
        "trusted": true,
        "id": "x88h4Jz5S469",
        "colab_type": "code",
        "colab": {}
      },
      "source": [
        "train=pd.read_csv('/content/drive/My Drive/kaggle_melanoma/train.csv')\n",
        "test=pd.read_csv('/content/drive/My Drive/kaggle_melanoma/test.csv')\n",
        "#submission=pd.read_csv('/kaggle/input/siim-isic-melanoma-classification/sample_submission.csv')"
      ],
      "execution_count": 0,
      "outputs": []
    },
    {
      "cell_type": "code",
      "metadata": {
        "trusted": true,
        "id": "xV1HPoMzS47T",
        "colab_type": "code",
        "colab": {}
      },
      "source": [
        "train=pd.DataFrame(train)"
      ],
      "execution_count": 0,
      "outputs": []
    },
    {
      "cell_type": "code",
      "metadata": {
        "id": "Fx7qkApoBrYv",
        "colab_type": "code",
        "colab": {}
      },
      "source": [
        "np.random.shuffle(train.values)"
      ],
      "execution_count": 0,
      "outputs": []
    },
    {
      "cell_type": "code",
      "metadata": {
        "id": "ncorC-RekbHf",
        "colab_type": "code",
        "colab": {}
      },
      "source": [
        "gkf=StratifiedKFold(n_splits=5)\n",
        "train.loc[:,'Fold']=0\n",
        "for fold_no,(train_index,val_index) in  enumerate(gkf.split(X=train.index,y=train['target'])):\n",
        "    train.loc[train.iloc[val_index].index, 'Fold'] = fold_no"
      ],
      "execution_count": 0,
      "outputs": []
    },
    {
      "cell_type": "code",
      "metadata": {
        "id": "5J2_Ud8HkgGL",
        "colab_type": "code",
        "colab": {}
      },
      "source": [
        "Y=train.target\n",
        "#Y=to_categorical(Y)\n",
        "#Y.shape\n"
      ],
      "execution_count": 0,
      "outputs": []
    },
    {
      "cell_type": "code",
      "metadata": {
        "trusted": true,
        "id": "eMFSv7ZCS4-M",
        "colab_type": "code",
        "colab": {}
      },
      "source": [
        "x_train=np.load('/content/drive/My Drive/kaggle_melanoma/x_train_32.npy')/255.0\n",
        "test_file=np.load('/content/drive/My Drive/kaggle_melanoma/x_test_32.npy')/255.0\n",
        "\n",
        "    "
      ],
      "execution_count": 0,
      "outputs": []
    },
    {
      "cell_type": "code",
      "metadata": {
        "id": "BMRZf4iTpsuI",
        "colab_type": "code",
        "outputId": "695e0df0-0223-4b16-e532-d81451a46eff",
        "colab": {
          "base_uri": "https://localhost:8080/",
          "height": 34
        }
      },
      "source": [
        "import gc\n",
        "gc.collect()"
      ],
      "execution_count": 9,
      "outputs": [
        {
          "output_type": "execute_result",
          "data": {
            "text/plain": [
              "39"
            ]
          },
          "metadata": {
            "tags": []
          },
          "execution_count": 9
        }
      ]
    },
    {
      "cell_type": "code",
      "metadata": {
        "trusted": true,
        "id": "89W34rjTS4-k",
        "colab_type": "code",
        "colab": {}
      },
      "source": [
        "#x_train=x_train/255.0\n",
        "img_size=32"
      ],
      "execution_count": 0,
      "outputs": []
    },
    {
      "cell_type": "code",
      "metadata": {
        "trusted": true,
        "id": "QxPw2xoWS4-0",
        "colab_type": "code",
        "colab": {}
      },
      "source": [
        "#x_tr,x_ts,y_tr,y_ts=train_test_split(x_train,Y,stratify=Y,shuffle=True,test_size=0.2)"
      ],
      "execution_count": 0,
      "outputs": []
    },
    {
      "cell_type": "code",
      "metadata": {
        "trusted": true,
        "id": "Qfv56LeNS4_D",
        "colab_type": "code",
        "colab": {}
      },
      "source": [
        "#!pip install '../input/kerasefficientnetb3/efficientnet-1.0.0-py3-none-any.whl'\n",
        "!pip install -q efficientnet\n",
        "import efficientnet.keras as efn"
      ],
      "execution_count": 0,
      "outputs": []
    },
    {
      "cell_type": "code",
      "metadata": {
        "id": "FWpu_zOKk-Dy",
        "colab_type": "code",
        "colab": {}
      },
      "source": [
        "fold=1\n",
        "train_1_index=train[train['Fold']!=fold].index\n",
        "val_1_index=train[train['Fold']==fold].index"
      ],
      "execution_count": 0,
      "outputs": []
    },
    {
      "cell_type": "code",
      "metadata": {
        "id": "CkLC1k0xlTA6",
        "colab_type": "code",
        "colab": {}
      },
      "source": [
        "train_1_data=x_train[train_1_index]\n",
        "val_1_data=x_train[val_1_index]\n",
        "train_1_label=Y[train_1_index]\n",
        "val_1_label=Y[val_1_index]"
      ],
      "execution_count": 0,
      "outputs": []
    },
    {
      "cell_type": "code",
      "metadata": {
        "id": "akJ6vXh7C6DI",
        "colab_type": "code",
        "colab": {}
      },
      "source": [
        "#train_1_index,Y[33117]"
      ],
      "execution_count": 0,
      "outputs": []
    },
    {
      "cell_type": "code",
      "metadata": {
        "trusted": true,
        "id": "mEVLLmIxS4_V",
        "colab_type": "code",
        "colab": {}
      },
      "source": [
        "from tensorflow.keras.preprocessing.image import ImageDataGenerator\n",
        "datagen = ImageDataGenerator(\n",
        "        featurewise_center=False,  # set input mean to 0 over the dataset\n",
        "        samplewise_center=False,  # set each sample mean to 0\n",
        "        featurewise_std_normalization=False,  # divide inputs by std of the dataset\n",
        "        samplewise_std_normalization=False,  # divide each input by its std\n",
        "        zca_whitening=False,  # apply ZCA whitening\n",
        "        rotation_range=0,  # randomly rotate images in the range (degrees, 0 to 180)\n",
        "        zoom_range = 0, # Randomly zoom image \n",
        "        width_shift_range=0,  # randomly shift images horizontally (fraction of total width)\n",
        "        height_shift_range=0,  # randomly shift images vertically (fraction of total height)\n",
        "        horizontal_flip=True,  # randomly flip images\n",
        "        vertical_flip=True)  \n",
        "\n",
        "datagen.fit(train_1_data)"
      ],
      "execution_count": 0,
      "outputs": []
    },
    {
      "cell_type": "code",
      "metadata": {
        "trusted": true,
        "id": "edommBRaS4_4",
        "colab_type": "code",
        "colab": {}
      },
      "source": [
        ""
      ],
      "execution_count": 0,
      "outputs": []
    },
    {
      "cell_type": "code",
      "metadata": {
        "trusted": true,
        "id": "TP5STzHPS5AM",
        "colab_type": "code",
        "colab": {}
      },
      "source": [
        "'''\n",
        "import pickel as pickle\n",
        "x_pk=open('xpickle.pickle','wb')\n",
        "pickle.dump(X,x_pk)\n",
        "x_pk.close()\n",
        "y_pk=open('ypickle.pikle','wb')\n",
        "pickle.dump(Y,y_pk)\n",
        "y_pk.close()\n",
        "x_in=open('xpickle.pickle','rb')\n",
        "train_x=pickle.load(x_in)\n",
        "y_in=open('ypickle.pickle','rb')\n",
        "train_y=pickle.load(y_in)\n",
        "'''"
      ],
      "execution_count": 0,
      "outputs": []
    },
    {
      "cell_type": "code",
      "metadata": {
        "trusted": true,
        "id": "6StlBVC-S5Ah",
        "colab_type": "code",
        "colab": {}
      },
      "source": [
        "import tensorflow as tf\n",
        "gm_exp = tf.Variable(3.0, dtype = tf.float32)\n",
        "def generalized_mean_pool_2d(X):\n",
        "    #import tensorflow\n",
        "    #gm_exp = tf.Variable(3.0, dtype = tf.float32)\n",
        "    #import tensorflow as tf\n",
        "    pool = (tf.reduce_mean(tf.abs(X**(gm_exp)), \n",
        "                        axis = [1, 2], \n",
        "                        keepdims = False) + 1.e-7)**(1./gm_exp)\n",
        "    return pool"
      ],
      "execution_count": 0,
      "outputs": []
    },
    {
      "cell_type": "code",
      "metadata": {
        "trusted": true,
        "id": "faNbx59CS5A2",
        "colab_type": "code",
        "colab": {}
      },
      "source": [
        "dense_1=256\n",
        "dense_2=128"
      ],
      "execution_count": 0,
      "outputs": []
    },
    {
      "cell_type": "code",
      "metadata": {
        "trusted": true,
        "id": "byH0O0gZS5BK",
        "colab_type": "code",
        "colab": {}
      },
      "source": [
        "def create_model(input_shape):\n",
        "    # Input Layer\n",
        "    input = Input(shape = input_shape)\n",
        "    \n",
        "    # Create and Compile Model and show Summary\n",
        "    x_model = efn.EfficientNetB7(weights = 'noisy-student', include_top = False, input_tensor = input, pooling = None, \n",
        "                                 classes = None)\n",
        "    \n",
        "    # UnFreeze all layers\n",
        "    for layer in x_model.layers:\n",
        "        layer.trainable = True\n",
        "    \n",
        "    # GeM\n",
        "    lambda_layer = GlobalAveragePooling2D()\n",
        "    #lambda_layer.trainable_weights.extend([gm_exp])\n",
        "    x = lambda_layer(x_model.output)\n",
        "     # multi output\n",
        "    #x=Dense(dense_1,activation='relu')(x)\n",
        "    #x=Dense(dense_2,activation='relu')(x)\n",
        "    classes= Dense(1, activation = 'sigmoid', name = 'class')(x)\n",
        "    \n",
        "\n",
        "    # model\n",
        "    model = Model(inputs = x_model.input, outputs = [classes])\n",
        "    return model"
      ],
      "execution_count": 0,
      "outputs": []
    },
    {
      "cell_type": "code",
      "metadata": {
        "trusted": true,
        "id": "2NC-MEPHS5Bd",
        "colab_type": "code",
        "colab": {
          "base_uri": "https://localhost:8080/",
          "height": 34
        },
        "outputId": "07683cc2-c5b1-4556-add8-1bb0d6b50663"
      },
      "source": [
        "#gc.collect()\n",
        "img_size"
      ],
      "execution_count": 17,
      "outputs": [
        {
          "output_type": "execute_result",
          "data": {
            "text/plain": [
              "32"
            ]
          },
          "metadata": {
            "tags": []
          },
          "execution_count": 17
        }
      ]
    },
    {
      "cell_type": "code",
      "metadata": {
        "trusted": true,
        "id": "bbTPDrgaS5B6",
        "colab_type": "code",
        "colab": {}
      },
      "source": [
        "HEIGHT_NEW=WIDTH_NEW=img_size\n",
        "CHANNELS=3\n",
        "\n",
        "model1 = create_model(input_shape = (HEIGHT_NEW, WIDTH_NEW, CHANNELS))"
      ],
      "execution_count": 0,
      "outputs": []
    },
    {
      "cell_type": "code",
      "metadata": {
        "trusted": true,
        "id": "6w0U73O9S5CO",
        "colab_type": "code",
        "colab": {}
      },
      "source": [
        "model_name='B7X32n_1_64.h5'\n",
        "#model1.save(model_name)"
      ],
      "execution_count": 0,
      "outputs": []
    },
    {
      "cell_type": "code",
      "metadata": {
        "id": "RJUnYjuhyem1",
        "colab_type": "code",
        "colab": {}
      },
      "source": [
        "from tensorflow.keras import backend as K\n",
        "import dill\n",
        "def binary_focal_loss(gamma=2., alpha=.25):\n",
        "    \"\"\"\n",
        "    Binary form of focal loss.\n",
        "      FL(p_t) = -alpha * (1 - p_t)**gamma * log(p_t)\n",
        "      where p = sigmoid(x), p_t = p or 1 - p depending on if the label is 1 or 0, respectively.\n",
        "    References:\n",
        "        https://arxiv.org/pdf/1708.02002.pdf\n",
        "    Usage:\n",
        "     model.compile(loss=[binary_focal_loss(alpha=.25, gamma=2)], metrics=[\"accuracy\"], optimizer=adam)\n",
        "    \"\"\"\n",
        "    def binary_focal_loss_fixed(y_true, y_pred):\n",
        "        \"\"\"\n",
        "        :param y_true: A tensor of the same shape as `y_pred`\n",
        "        :param y_pred:  A tensor resulting from a sigmoid\n",
        "        :return: Output tensor.\n",
        "        \"\"\"\n",
        "        pt_1 = tf.where(tf.equal(y_true, 1), y_pred, tf.ones_like(y_pred))\n",
        "        pt_0 = tf.where(tf.equal(y_true, 0), y_pred, tf.zeros_like(y_pred))\n",
        "\n",
        "        epsilon = K.epsilon()\n",
        "        # clip to prevent NaN's and Inf's\n",
        "        pt_1 = K.clip(pt_1, epsilon, 1. - epsilon)\n",
        "        pt_0 = K.clip(pt_0, epsilon, 1. - epsilon)\n",
        "\n",
        "        return -K.sum(alpha * K.pow(1. - pt_1, gamma) * K.log(pt_1)) \\\n",
        "               -K.sum((1 - alpha) * K.pow(pt_0, gamma) * K.log(1. - pt_0))\n",
        "\n",
        "    return binary_focal_loss_fixed"
      ],
      "execution_count": 0,
      "outputs": []
    },
    {
      "cell_type": "code",
      "metadata": {
        "trusted": true,
        "id": "be7GsJiJS5Cq",
        "colab_type": "code",
        "outputId": "bd8e1d2a-e199-4945-ea80-7eebfa63c7bd",
        "colab": {
          "base_uri": "https://localhost:8080/",
          "height": 1000
        }
      },
      "source": [
        "reduce_learning_rate = ReduceLROnPlateau(monitor='loss',factor=0.2,patience=2,cooldown=2,min_lr=0.00001,verbose=1)\n",
        "callbacks = [reduce_learning_rate]\n",
        "model1.compile( optimizer='adam',loss=[binary_focal_loss(alpha=.25, gamma=2)],metrics=[tf.keras.metrics.AUC()])\n",
        "model1.fit_generator(datagen.flow(train_1_data,train_1_label, batch_size=64),\n",
        "                     validation_data=(val_1_data,val_1_label),epochs=50,callbacks=callbacks,workers=-1,use_multiprocessing=True)\n",
        "'''\n",
        "score=[]\n",
        "accuracy=[]\n",
        "models=[]\n",
        "kfolds=StratifiedKFold(n_splits=5, shuffle=True, random_state=5)\n",
        "for tr,ts in kfolds.split(x_train,Y):\n",
        "  datagen.fit(x_train[tr])\n",
        "  model3.fit_generator(datagen.flow(x_train[tr],Y[tr], batch_size=32),epochs=10,callbacks=callbacks)\n",
        "  #datagen.fit(x_train[ts])\n",
        "  res=model3.evaluate(x_train[ts],Y[ts])\n",
        "  accuracy.append(res[1])\n",
        "  roc=roc_auc_score(Y[ts],model3.predict(x_train[ts]))\n",
        "  scores.append(roc)\n",
        "  models.append(model3)\n",
        "\n",
        "'''\n",
        "#model3.fit(x_tr,y_tr,batch_size=32,epochs=50,callbacks=callbacks)\n",
        "model1.save(model_name)"
      ],
      "execution_count": 20,
      "outputs": [
        {
          "output_type": "stream",
          "text": [
            "Epoch 1/50\n",
            "415/415 [==============================] - 279s 673ms/step - loss: 0.9410 - auc_1: 0.5583 - val_loss: 0.0485 - val_auc_1: 0.6002\n",
            "Epoch 2/50\n",
            "415/415 [==============================] - 185s 445ms/step - loss: 0.5346 - auc_1: 0.6364 - val_loss: 0.0441 - val_auc_1: 0.6530\n",
            "Epoch 3/50\n",
            "415/415 [==============================] - 184s 444ms/step - loss: 0.5319 - auc_1: 0.6691 - val_loss: 0.0390 - val_auc_1: 0.6798\n",
            "Epoch 4/50\n",
            "415/415 [==============================] - 182s 438ms/step - loss: 0.5353 - auc_1: 0.6906 - val_loss: 0.0464 - val_auc_1: 0.6935\n",
            "Epoch 5/50\n",
            "415/415 [==============================] - 180s 435ms/step - loss: 0.5411 - auc_1: 0.6917 - val_loss: 0.0417 - val_auc_1: 0.6947\n",
            "\n",
            "Epoch 00005: ReduceLROnPlateau reducing learning rate to 0.00020000000949949026.\n",
            "Epoch 6/50\n",
            "415/415 [==============================] - 181s 436ms/step - loss: 0.4864 - auc_1: 0.7034 - val_loss: 0.0365 - val_auc_1: 0.7117\n",
            "Epoch 7/50\n",
            "415/415 [==============================] - 181s 436ms/step - loss: 0.4822 - auc_1: 0.7187 - val_loss: 0.0362 - val_auc_1: 0.7260\n",
            "Epoch 8/50\n",
            "415/415 [==============================] - 181s 436ms/step - loss: 0.4684 - auc_1: 0.7330 - val_loss: 0.0351 - val_auc_1: 0.7399\n",
            "Epoch 9/50\n",
            "415/415 [==============================] - 180s 434ms/step - loss: 0.4664 - auc_1: 0.7460 - val_loss: 0.0363 - val_auc_1: 0.7507\n",
            "Epoch 10/50\n",
            "415/415 [==============================] - 183s 440ms/step - loss: 0.4577 - auc_1: 0.7552 - val_loss: 0.0357 - val_auc_1: 0.7599\n",
            "Epoch 11/50\n",
            "415/415 [==============================] - 182s 439ms/step - loss: 0.4589 - auc_1: 0.7641 - val_loss: 0.0342 - val_auc_1: 0.7684\n",
            "Epoch 12/50\n",
            "415/415 [==============================] - 182s 438ms/step - loss: 0.4590 - auc_1: 0.7723 - val_loss: 0.0355 - val_auc_1: 0.7755\n",
            "Epoch 13/50\n",
            "415/415 [==============================] - 182s 439ms/step - loss: 0.5124 - auc_1: 0.7753 - val_loss: 0.0353 - val_auc_1: 0.7762\n",
            "\n",
            "Epoch 00013: ReduceLROnPlateau reducing learning rate to 4.0000001899898055e-05.\n",
            "Epoch 14/50\n",
            "415/415 [==============================] - 182s 438ms/step - loss: 0.4658 - auc_1: 0.7781 - val_loss: 0.0354 - val_auc_1: 0.7802\n",
            "Epoch 15/50\n",
            "415/415 [==============================] - 180s 434ms/step - loss: 0.4536 - auc_1: 0.7821 - val_loss: 0.0353 - val_auc_1: 0.7847\n",
            "Epoch 16/50\n",
            "415/415 [==============================] - 181s 436ms/step - loss: 0.4449 - auc_1: 0.7868 - val_loss: 0.0348 - val_auc_1: 0.7895\n",
            "Epoch 17/50\n",
            "415/415 [==============================] - 181s 436ms/step - loss: 0.4433 - auc_1: 0.7916 - val_loss: 0.0347 - val_auc_1: 0.7936\n",
            "Epoch 18/50\n",
            "415/415 [==============================] - 181s 436ms/step - loss: 0.4326 - auc_1: 0.7959 - val_loss: 0.0346 - val_auc_1: 0.7981\n",
            "Epoch 19/50\n",
            "415/415 [==============================] - 180s 435ms/step - loss: 0.4317 - auc_1: 0.8004 - val_loss: 0.0344 - val_auc_1: 0.8023\n",
            "Epoch 20/50\n",
            "415/415 [==============================] - 181s 436ms/step - loss: 0.4262 - auc_1: 0.8043 - val_loss: 0.0348 - val_auc_1: 0.8063\n",
            "Epoch 21/50\n",
            "415/415 [==============================] - 181s 436ms/step - loss: 0.4208 - auc_1: 0.8082 - val_loss: 0.0347 - val_auc_1: 0.8101\n",
            "Epoch 22/50\n",
            "415/415 [==============================] - 182s 438ms/step - loss: 0.4159 - auc_1: 0.8122 - val_loss: 0.0342 - val_auc_1: 0.8139\n",
            "Epoch 23/50\n",
            "415/415 [==============================] - 182s 437ms/step - loss: 0.4130 - auc_1: 0.8157 - val_loss: 0.0358 - val_auc_1: 0.8172\n",
            "Epoch 24/50\n",
            "415/415 [==============================] - 182s 438ms/step - loss: 0.4082 - auc_1: 0.8189 - val_loss: 0.0342 - val_auc_1: 0.8205\n",
            "Epoch 25/50\n",
            "415/415 [==============================] - 182s 439ms/step - loss: 0.4176 - auc_1: 0.8223 - val_loss: 0.0345 - val_auc_1: 0.8236\n",
            "Epoch 26/50\n",
            "415/415 [==============================] - 182s 438ms/step - loss: 0.4075 - auc_1: 0.8251 - val_loss: 0.0345 - val_auc_1: 0.8263\n",
            "\n",
            "Epoch 00026: ReduceLROnPlateau reducing learning rate to 1e-05.\n",
            "Epoch 27/50\n",
            "415/415 [==============================] - 181s 436ms/step - loss: 0.3941 - auc_1: 0.8277 - val_loss: 0.0346 - val_auc_1: 0.8291\n",
            "Epoch 28/50\n",
            "415/415 [==============================] - 181s 436ms/step - loss: 0.3904 - auc_1: 0.8305 - val_loss: 0.0346 - val_auc_1: 0.8319\n",
            "Epoch 29/50\n",
            "415/415 [==============================] - 181s 435ms/step - loss: 0.3985 - auc_1: 0.8332 - val_loss: 0.0345 - val_auc_1: 0.8343\n",
            "Epoch 30/50\n",
            "415/415 [==============================] - 181s 435ms/step - loss: 0.3855 - auc_1: 0.8356 - val_loss: 0.0349 - val_auc_1: 0.8368\n",
            "Epoch 31/50\n",
            "415/415 [==============================] - 181s 436ms/step - loss: 0.3905 - auc_1: 0.8381 - val_loss: 0.0349 - val_auc_1: 0.8391\n",
            "Epoch 32/50\n",
            "415/415 [==============================] - 181s 437ms/step - loss: 0.3886 - auc_1: 0.8401 - val_loss: 0.0349 - val_auc_1: 0.8412\n",
            "Epoch 33/50\n",
            "415/415 [==============================] - 181s 436ms/step - loss: 0.3787 - auc_1: 0.8424 - val_loss: 0.0350 - val_auc_1: 0.8434\n",
            "Epoch 34/50\n",
            "415/415 [==============================] - 181s 436ms/step - loss: 0.3834 - auc_1: 0.8444 - val_loss: 0.0348 - val_auc_1: 0.8453\n",
            "Epoch 35/50\n",
            "415/415 [==============================] - 181s 436ms/step - loss: 0.3822 - auc_1: 0.8464 - val_loss: 0.0350 - val_auc_1: 0.8472\n",
            "Epoch 36/50\n",
            "415/415 [==============================] - 181s 436ms/step - loss: 0.3814 - auc_1: 0.8482 - val_loss: 0.0350 - val_auc_1: 0.8490\n",
            "Epoch 37/50\n",
            "415/415 [==============================] - 181s 436ms/step - loss: 0.3765 - auc_1: 0.8499 - val_loss: 0.0349 - val_auc_1: 0.8507\n",
            "Epoch 38/50\n",
            "415/415 [==============================] - 181s 436ms/step - loss: 0.3788 - auc_1: 0.8515 - val_loss: 0.0348 - val_auc_1: 0.8523\n",
            "Epoch 39/50\n",
            "415/415 [==============================] - 181s 436ms/step - loss: 0.3837 - auc_1: 0.8530 - val_loss: 0.0348 - val_auc_1: 0.8536\n",
            "Epoch 40/50\n",
            "415/415 [==============================] - 182s 438ms/step - loss: 0.3735 - auc_1: 0.8544 - val_loss: 0.0345 - val_auc_1: 0.8551\n",
            "Epoch 41/50\n",
            "415/415 [==============================] - 182s 438ms/step - loss: 0.3713 - auc_1: 0.8559 - val_loss: 0.0347 - val_auc_1: 0.8567\n",
            "Epoch 42/50\n",
            "415/415 [==============================] - 183s 440ms/step - loss: 0.3716 - auc_1: 0.8575 - val_loss: 0.0347 - val_auc_1: 0.8581\n",
            "Epoch 43/50\n",
            "415/415 [==============================] - 182s 439ms/step - loss: 0.3687 - auc_1: 0.8589 - val_loss: 0.0349 - val_auc_1: 0.8596\n",
            "Epoch 44/50\n",
            "415/415 [==============================] - 182s 439ms/step - loss: 0.3747 - auc_1: 0.8602 - val_loss: 0.0349 - val_auc_1: 0.8608\n",
            "Epoch 45/50\n",
            "415/415 [==============================] - 181s 436ms/step - loss: 0.3795 - auc_1: 0.8615 - val_loss: 0.0354 - val_auc_1: 0.8620\n",
            "Epoch 46/50\n",
            "415/415 [==============================] - 181s 436ms/step - loss: 0.3660 - auc_1: 0.8626 - val_loss: 0.0350 - val_auc_1: 0.8632\n",
            "Epoch 47/50\n",
            "415/415 [==============================] - 181s 436ms/step - loss: 0.3661 - auc_1: 0.8638 - val_loss: 0.0351 - val_auc_1: 0.8643\n",
            "Epoch 48/50\n",
            "415/415 [==============================] - 181s 436ms/step - loss: 0.3552 - auc_1: 0.8650 - val_loss: 0.0357 - val_auc_1: 0.8655\n",
            "Epoch 49/50\n",
            "415/415 [==============================] - 182s 438ms/step - loss: 0.3664 - auc_1: 0.8661 - val_loss: 0.0356 - val_auc_1: 0.8666\n",
            "Epoch 50/50\n",
            "415/415 [==============================] - 181s 436ms/step - loss: 0.3559 - auc_1: 0.8671 - val_loss: 0.0353 - val_auc_1: 0.8677\n"
          ],
          "name": "stdout"
        }
      ]
    },
    {
      "cell_type": "code",
      "metadata": {
        "trusted": true,
        "id": "f8smbQKoS5C_",
        "colab_type": "code",
        "colab": {}
      },
      "source": [
        "#model_name='B7X32n_1_64.h5'\n",
        "model1.save(model_name)"
      ],
      "execution_count": 0,
      "outputs": []
    },
    {
      "cell_type": "code",
      "metadata": {
        "trusted": true,
        "id": "UU3sloj0S5DP",
        "colab_type": "code",
        "outputId": "d8c56bdf-3cdc-438e-d724-8e088105e0d2",
        "colab": {
          "base_uri": "https://localhost:8080/",
          "height": 350
        }
      },
      "source": [
        "model=[model1]\n",
        "def comare_model(models):\n",
        "    output=[]\n",
        "    names=['effecientnet','vgg16','resnet']\n",
        "    for mod in models:\n",
        "        res=mod.evaluate(x_ts,y_ts)\n",
        "        roc=roc_auc_score(y_ts,mod.predict(x_ts))\n",
        "        output.append((res[0],res[1],roc))\n",
        "    output=pd.DataFrame(output,index=names,columns=['loss','accuracy','roc_score'])\n",
        "    return(output)\n",
        "result=comare_model(model)\n",
        "result.to_csv(model_name+str('.csv'))\n",
        "result\n",
        "        "
      ],
      "execution_count": 0,
      "outputs": [
        {
          "output_type": "error",
          "ename": "NameError",
          "evalue": "ignored",
          "traceback": [
            "\u001b[0;31m---------------------------------------------------------------------------\u001b[0m",
            "\u001b[0;31mNameError\u001b[0m                                 Traceback (most recent call last)",
            "\u001b[0;32m<ipython-input-27-01ee703b0e23>\u001b[0m in \u001b[0;36m<module>\u001b[0;34m()\u001b[0m\n\u001b[1;32m      9\u001b[0m     \u001b[0moutput\u001b[0m\u001b[0;34m=\u001b[0m\u001b[0mpd\u001b[0m\u001b[0;34m.\u001b[0m\u001b[0mDataFrame\u001b[0m\u001b[0;34m(\u001b[0m\u001b[0moutput\u001b[0m\u001b[0;34m,\u001b[0m\u001b[0mindex\u001b[0m\u001b[0;34m=\u001b[0m\u001b[0mnames\u001b[0m\u001b[0;34m,\u001b[0m\u001b[0mcolumns\u001b[0m\u001b[0;34m=\u001b[0m\u001b[0;34m[\u001b[0m\u001b[0;34m'loss'\u001b[0m\u001b[0;34m,\u001b[0m\u001b[0;34m'accuracy'\u001b[0m\u001b[0;34m,\u001b[0m\u001b[0;34m'roc_score'\u001b[0m\u001b[0;34m]\u001b[0m\u001b[0;34m)\u001b[0m\u001b[0;34m\u001b[0m\u001b[0;34m\u001b[0m\u001b[0m\n\u001b[1;32m     10\u001b[0m     \u001b[0;32mreturn\u001b[0m\u001b[0;34m(\u001b[0m\u001b[0moutput\u001b[0m\u001b[0;34m)\u001b[0m\u001b[0;34m\u001b[0m\u001b[0;34m\u001b[0m\u001b[0m\n\u001b[0;32m---> 11\u001b[0;31m \u001b[0mresult\u001b[0m\u001b[0;34m=\u001b[0m\u001b[0mcomare_model\u001b[0m\u001b[0;34m(\u001b[0m\u001b[0mmodel\u001b[0m\u001b[0;34m)\u001b[0m\u001b[0;34m\u001b[0m\u001b[0;34m\u001b[0m\u001b[0m\n\u001b[0m\u001b[1;32m     12\u001b[0m \u001b[0mresult\u001b[0m\u001b[0;34m.\u001b[0m\u001b[0mto_csv\u001b[0m\u001b[0;34m(\u001b[0m\u001b[0mmodel_name\u001b[0m\u001b[0;34m+\u001b[0m\u001b[0mstr\u001b[0m\u001b[0;34m(\u001b[0m\u001b[0;34m'.csv'\u001b[0m\u001b[0;34m)\u001b[0m\u001b[0;34m)\u001b[0m\u001b[0;34m\u001b[0m\u001b[0;34m\u001b[0m\u001b[0m\n\u001b[1;32m     13\u001b[0m \u001b[0mresult\u001b[0m\u001b[0;34m\u001b[0m\u001b[0;34m\u001b[0m\u001b[0m\n",
            "\u001b[0;32m<ipython-input-27-01ee703b0e23>\u001b[0m in \u001b[0;36mcomare_model\u001b[0;34m(models)\u001b[0m\n\u001b[1;32m      4\u001b[0m     \u001b[0mnames\u001b[0m\u001b[0;34m=\u001b[0m\u001b[0;34m[\u001b[0m\u001b[0;34m'effecientnet'\u001b[0m\u001b[0;34m,\u001b[0m\u001b[0;34m'vgg16'\u001b[0m\u001b[0;34m,\u001b[0m\u001b[0;34m'resnet'\u001b[0m\u001b[0;34m]\u001b[0m\u001b[0;34m\u001b[0m\u001b[0;34m\u001b[0m\u001b[0m\n\u001b[1;32m      5\u001b[0m     \u001b[0;32mfor\u001b[0m \u001b[0mmod\u001b[0m \u001b[0;32min\u001b[0m \u001b[0mmodels\u001b[0m\u001b[0;34m:\u001b[0m\u001b[0;34m\u001b[0m\u001b[0;34m\u001b[0m\u001b[0m\n\u001b[0;32m----> 6\u001b[0;31m         \u001b[0mres\u001b[0m\u001b[0;34m=\u001b[0m\u001b[0mmod\u001b[0m\u001b[0;34m.\u001b[0m\u001b[0mevaluate\u001b[0m\u001b[0;34m(\u001b[0m\u001b[0mx_ts\u001b[0m\u001b[0;34m,\u001b[0m\u001b[0my_ts\u001b[0m\u001b[0;34m)\u001b[0m\u001b[0;34m\u001b[0m\u001b[0;34m\u001b[0m\u001b[0m\n\u001b[0m\u001b[1;32m      7\u001b[0m         \u001b[0mroc\u001b[0m\u001b[0;34m=\u001b[0m\u001b[0mroc_auc_score\u001b[0m\u001b[0;34m(\u001b[0m\u001b[0my_ts\u001b[0m\u001b[0;34m,\u001b[0m\u001b[0mmod\u001b[0m\u001b[0;34m.\u001b[0m\u001b[0mpredict\u001b[0m\u001b[0;34m(\u001b[0m\u001b[0mx_ts\u001b[0m\u001b[0;34m)\u001b[0m\u001b[0;34m)\u001b[0m\u001b[0;34m\u001b[0m\u001b[0;34m\u001b[0m\u001b[0m\n\u001b[1;32m      8\u001b[0m         \u001b[0moutput\u001b[0m\u001b[0;34m.\u001b[0m\u001b[0mappend\u001b[0m\u001b[0;34m(\u001b[0m\u001b[0;34m(\u001b[0m\u001b[0mres\u001b[0m\u001b[0;34m[\u001b[0m\u001b[0;36m0\u001b[0m\u001b[0;34m]\u001b[0m\u001b[0;34m,\u001b[0m\u001b[0mres\u001b[0m\u001b[0;34m[\u001b[0m\u001b[0;36m1\u001b[0m\u001b[0;34m]\u001b[0m\u001b[0;34m,\u001b[0m\u001b[0mroc\u001b[0m\u001b[0;34m)\u001b[0m\u001b[0;34m)\u001b[0m\u001b[0;34m\u001b[0m\u001b[0;34m\u001b[0m\u001b[0m\n",
            "\u001b[0;31mNameError\u001b[0m: name 'x_ts' is not defined"
          ]
        }
      ]
    },
    {
      "cell_type": "code",
      "metadata": {
        "trusted": true,
        "id": "Fz4vJKjwS5Di",
        "colab_type": "code",
        "colab": {}
      },
      "source": [
        "model1.save('B7X32_noisy1_0.835.h5')\n"
      ],
      "execution_count": 0,
      "outputs": []
    },
    {
      "cell_type": "code",
      "metadata": {
        "trusted": true,
        "id": "EMOIGNmRS5D0",
        "colab_type": "code",
        "colab": {}
      },
      "source": [
        "from keras.models import load_model\n",
        "import tensorflow as tf\n",
        "model3=load_model('/kaggle/input/model-first/32.h5',custom_objects={'tf': tf,'gm_exp':gm_exp})"
      ],
      "execution_count": 0,
      "outputs": []
    },
    {
      "cell_type": "code",
      "metadata": {
        "trusted": true,
        "id": "postRyhrS5EH",
        "colab_type": "code",
        "colab": {}
      },
      "source": [
        "from datetime import datetime\n",
        "import pytz\n",
        "tz_ist=pytz.timezone('Asia/Kolkata')\n",
        "dtnow=datetime.now(tz_ist)\n",
        "import time\n",
        "timestr = dtnow.strftime(\"%Y%m%d-%H%M\")\n",
        "#print timestr\n",
        "#op\n",
        "#inverse={'0':'Food', '1':'misc', '2':'Attire', '3':'Decorationandsignage'}\n",
        "#inverse={'0':'manipuri', '1':'bharatanatyam', '2':'odissi', '3':'kathakali', '4':'kathak','5':'sattriya','6':'kuchipudi',\n",
        " #        '7':'mohiniyattam'}\n",
        "labels = model1.predict(test_file)\n",
        "#print(labels[:4])\n",
        "l1 = [i[0]  for i in labels]\n",
        "#class_label = [inverse[str(x)] for x in label]\n",
        "#print(class_label[:3])\n",
        "submission = pd.DataFrame({ 'image_name': test.image_name, 'target': l1 })\n",
        "submission.head(10)\n",
        "submission.to_csv('submission{}.csv'.format(timestr), index=False)"
      ],
      "execution_count": 0,
      "outputs": []
    },
    {
      "cell_type": "code",
      "metadata": {
        "trusted": true,
        "id": "VGbGdi_BS5Eb",
        "colab_type": "code",
        "colab": {}
      },
      "source": [
        "l1=[i[0] for i  in op]"
      ],
      "execution_count": 0,
      "outputs": []
    },
    {
      "cell_type": "code",
      "metadata": {
        "trusted": true,
        "id": "u1mAYNgFS5Ev",
        "colab_type": "code",
        "colab": {}
      },
      "source": [
        "l1"
      ],
      "execution_count": 0,
      "outputs": []
    },
    {
      "cell_type": "code",
      "metadata": {
        "trusted": true,
        "id": "T_tkbMpqS5E8",
        "colab_type": "code",
        "colab": {}
      },
      "source": [
        "test_file.shape,len(label),print(set(label))"
      ],
      "execution_count": 0,
      "outputs": []
    },
    {
      "cell_type": "code",
      "metadata": {
        "trusted": true,
        "id": "d7umocNBS5FH",
        "colab_type": "code",
        "colab": {}
      },
      "source": [
        "Y.unique(),y_tr.unique(),y_ts.unique()"
      ],
      "execution_count": 0,
      "outputs": []
    },
    {
      "cell_type": "code",
      "metadata": {
        "trusted": true,
        "id": "mgO7xql8S5Fc",
        "colab_type": "code",
        "colab": {}
      },
      "source": [
        "op=model3.predict(test_file)"
      ],
      "execution_count": 0,
      "outputs": []
    },
    {
      "cell_type": "code",
      "metadata": {
        "trusted": true,
        "id": "XaXZwDCRS5Fs",
        "colab_type": "code",
        "colab": {}
      },
      "source": [
        "op.shape"
      ],
      "execution_count": 0,
      "outputs": []
    },
    {
      "cell_type": "code",
      "metadata": {
        "trusted": true,
        "id": "CZFAfwdjS5F5",
        "colab_type": "code",
        "colab": {}
      },
      "source": [
        "oop= [1  if i>0.5 else 0 for i in op]"
      ],
      "execution_count": 0,
      "outputs": []
    },
    {
      "cell_type": "code",
      "metadata": {
        "trusted": true,
        "id": "afV41P4hS5GF",
        "colab_type": "code",
        "colab": {}
      },
      "source": [
        "set_op=set(oop)\n",
        "set_op\n",
        "len(oop)"
      ],
      "execution_count": 0,
      "outputs": []
    },
    {
      "cell_type": "code",
      "metadata": {
        "trusted": true,
        "id": "aU_UWdteS5GQ",
        "colab_type": "code",
        "colab": {}
      },
      "source": [
        "img_size=32\n",
        "def preprocess_img(path,dsize=img_size):\n",
        "    i=Image.open(path)\n",
        "    i=i.resize((dsize,)*2,resample=Image.LANCZOS)\n",
        "    return i\n",
        "\n",
        "n=test.shape[0]\n",
        "ts_df=np.empty((n,img_size,img_size,3),dtype=np.uint8)\n",
        "for i,img in enumerate(tqdm(test.image_name)):\n",
        "    ts_df[i,:,:,:]=preprocess_img(f'../input/siim-isic-melanoma-classification/jpeg/test/{img}.jpg')"
      ],
      "execution_count": 0,
      "outputs": []
    }
  ]
}